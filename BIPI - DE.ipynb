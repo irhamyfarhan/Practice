{
 "cells": [
  {
   "cell_type": "code",
   "execution_count": 0,
   "metadata": {
    "application/vnd.databricks.v1+cell": {
     "cellMetadata": {},
     "inputWidgets": {},
     "nuid": "895084df-4698-4568-b514-646306a42c1e",
     "showTitle": false,
     "title": ""
    }
   },
   "outputs": [],
   "source": [
    "SELECT region FROM (\n",
    "    SELECT region, SUM(revenue) as total_revenue\n",
    "    FROM region\n",
    "    WHERE date >= DATEADD(day, -28, GETDATE())\n",
    "    GROUP BY region\n",
    "    ORDER BY total_revenue DESC\n",
    "    LIMIT 5\n",
    ")\n",
    "WHERE ROWNUM = 5;"
   ]
  },
  {
   "cell_type": "code",
   "execution_count": 0,
   "metadata": {
    "application/vnd.databricks.v1+cell": {
     "cellMetadata": {},
     "inputWidgets": {},
     "nuid": "7eaa5809-0978-49b2-9bca-56c08f3a022e",
     "showTitle": false,
     "title": ""
    }
   },
   "outputs": [],
   "source": [
    "SELECT TOP 1 region\n",
    "FROM (\n",
    "    SELECT region, SUM(revenue) as total_revenue,\n",
    "           ROW_NUMBER() OVER (ORDER BY SUM(revenue) DESC) AS RowNum\n",
    "    FROM region\n",
    "    WHERE date >= DATEADD(day, -28, GETDATE())\n",
    "    GROUP BY region\n",
    ") AS sub\n",
    "WHERE RowNum = 5;\n"
   ]
  },
  {
   "cell_type": "code",
   "execution_count": 0,
   "metadata": {
    "application/vnd.databricks.v1+cell": {
     "cellMetadata": {},
     "inputWidgets": {},
     "nuid": "a372055e-7897-4a15-b285-627cbdbceeae",
     "showTitle": false,
     "title": ""
    }
   },
   "outputs": [],
   "source": [
    "SELECT TOP 1 region\n",
    "FROM (\n",
    "  SELECT region, SUM(revenue) AS total_revenue\n",
    "  FROM region\n",
    "  WHERE date BETWEEN DATEADD(day, -28, GETDATE()) AND GETDATE()\n",
    "  GROUP BY region\n",
    "  ORDER BY total_revenue DESC\n",
    ") AS subquery\n",
    "ORDER BY total_revenue DESC\n",
    "OFFSET 4 ROWS FETCH NEXT 1 ROW ONLY"
   ]
  },
  {
   "cell_type": "code",
   "execution_count": 0,
   "metadata": {
    "application/vnd.databricks.v1+cell": {
     "cellMetadata": {},
     "inputWidgets": {},
     "nuid": "876e2982-336f-4e21-a49f-57aa5ea57267",
     "showTitle": false,
     "title": ""
    }
   },
   "outputs": [],
   "source": [
    "num = int(input(\"Enter an integer: \"))\n",
    "result = num ** 2\n",
    "print(\"The square of\", num, \"is\", result)"
   ]
  },
  {
   "cell_type": "code",
   "execution_count": 0,
   "metadata": {
    "application/vnd.databricks.v1+cell": {
     "cellMetadata": {},
     "inputWidgets": {},
     "nuid": "9a0973e4-32ac-4075-a472-21f188d1c491",
     "showTitle": false,
     "title": ""
    }
   },
   "outputs": [],
   "source": [
    "num = int(input(\"\"))\n",
    "\n",
    "result = num*num\n",
    "print(result)"
   ]
  },
  {
   "cell_type": "code",
   "execution_count": 0,
   "metadata": {
    "application/vnd.databricks.v1+cell": {
     "cellMetadata": {},
     "inputWidgets": {},
     "nuid": "a19a54e5-5379-4dac-b5dc-55a7a839dea9",
     "showTitle": false,
     "title": ""
    }
   },
   "outputs": [],
   "source": [
    "def longest_common_subsequence(s1, s2):\n",
    "    # Create a 2D array to store the LCS lengths\n",
    "    m, n = len(s1), len(s2)\n",
    "    dp = [[0] * (n + 1) for _ in range(m + 1)]\n",
    "    \n",
    "    # Fill in the LCS lengths\n",
    "    for i in range(1, m + 1):\n",
    "        for j in range(1, n + 1):\n",
    "            if s1[i - 1] == s2[j - 1]:\n",
    "                dp[i][j] = dp[i - 1][j - 1] + 1\n",
    "            else:\n",
    "                dp[i][j] = max(dp[i - 1][j], dp[i][j - 1])\n",
    "    \n",
    "    # Backtrack to find the actual LCS\n",
    "    lcs = \"\"\n",
    "    i, j = m, n\n",
    "    while i > 0 and j > 0:\n",
    "        if s1[i - 1] == s2[j - 1]:\n",
    "            lcs = s1[i - 1] + lcs #returns an error of TypeError: can only concatenate str (not \"list\") to str\n",
    "            i -= 1\n",
    "            j -= 1\n",
    "        elif dp[i - 1][j] > dp[i][j - 1]:\n",
    "            i -= 1\n",
    "        else:\n",
    "            j -= 1\n",
    "    \n",
    "    return lcs #return an answer of ['U', 'A', 'J', 'M'] instead of MJAU\n",
    "\n",
    "while True:\n",
    "    try:\n",
    "        line = input()\n",
    "        # ignore empty lines\n",
    "        if line.strip() == \"\":\n",
    "            continue\n",
    "        s1, s2 = line.split(\";\")\n",
    "        print(longest_common_subsequence(s1, s2))\n",
    "    except EOFError:\n",
    "        break"
   ]
  },
  {
   "cell_type": "markdown",
   "metadata": {
    "application/vnd.databricks.v1+cell": {
     "cellMetadata": {},
     "inputWidgets": {},
     "nuid": "1bf85f0a-b341-47a2-8bfa-900797d651c9",
     "showTitle": false,
     "title": ""
    }
   },
   "source": [
    "Longest Common Subsequence\n",
    "Programming challenge description:\n",
    "Given two strings, write a program to determine the longest common subsequence between them. Each string can have a maximum length of 50 characters. Note, this subsequence need not be contiguous.\n",
    "Input:\n",
    "Your program should read lines of text from standard input. Ignore empty lines. Each non-empty line will contain two semicolon-seperated strings. You can assume that there is only one unique subsequence per line.\n",
    "Output:\n",
    "For each line of input, print to standard output the longest common subsequence. Ensure that there are no trailing spaces on each line you print.\n",
    "Test 1\n",
    "Test 1 Input\n",
    "XMJYAUZ;MZJAWXU\n",
    "Expected \n",
    "Test 1 Output\n",
    "MJAU"
   ]
  },
  {
   "cell_type": "code",
   "execution_count": 0,
   "metadata": {
    "application/vnd.databricks.v1+cell": {
     "cellMetadata": {},
     "inputWidgets": {},
     "nuid": "d3a9d0d9-732a-4586-8177-0ecdefa5a6bc",
     "showTitle": false,
     "title": ""
    }
   },
   "outputs": [],
   "source": [
    "def longest_common_subsequence(s1, s2):\n",
    "    m, n = len(s1), len(s2)\n",
    "    dp = [[0] * (n+1) for _ in range(m+1)]\n",
    "    \n",
    "    for i in range(1, m+1):\n",
    "        for k in range(1, n+1):\n",
    "            if s1[i-1] == s2[k-1]:\n",
    "                dp[i][k] = dp[i-1][k-1] + 1\n",
    "            else:\n",
    "                dp[i][k] = max(dp[i-1][k], dp[i][k-1])\n",
    "    i,k = m,n\n",
    "    lcs = []\n",
    "    while i > 0 and k > 0:\n",
    "        if s1[i-1] == s2[k-1]:\n",
    "            lcs.append(s1[i-1])\n",
    "            i -= 1\n",
    "            k -= 1\n",
    "        elif dp[i-1][k] > dp[i][k-1]:\n",
    "            i -= 1\n",
    "        else:\n",
    "            k -= 1\n",
    "            \n",
    "    return ''.join(reversed(lcs))\n",
    "\n",
    "while True:\n",
    "    try:\n",
    "        line = input()\n",
    "        if line.strip() == \"\":\n",
    "            continue\n",
    "        s1, s2 = line.split(\";\")\n",
    "        print (longest_common_subsequence(s1, s2))\n",
    "    except EOFError:\n",
    "        break"
   ]
  }
 ],
 "metadata": {
  "application/vnd.databricks.v1+notebook": {
   "dashboards": [],
   "environmentMetadata": {
    "base_environment": "",
    "client": "1"
   },
   "language": "python",
   "notebookMetadata": {
    "pythonIndentUnit": 4
   },
   "notebookName": "BIPI - DE",
   "widgets": {}
  }
 },
 "nbformat": 4,
 "nbformat_minor": 0
}
