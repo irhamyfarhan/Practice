{
 "cells": [
  {
   "cell_type": "markdown",
   "metadata": {
    "application/vnd.databricks.v1+cell": {
     "cellMetadata": {},
     "inputWidgets": {},
     "nuid": "0c1c5221-fc04-4203-bb2d-befe91d62cd0",
     "showTitle": false,
     "title": ""
    }
   },
   "source": [
    "## FINAL CODE"
   ]
  },
  {
   "cell_type": "code",
   "execution_count": 0,
   "metadata": {
    "application/vnd.databricks.v1+cell": {
     "cellMetadata": {
      "byteLimit": 2048000,
      "rowLimit": 10000
     },
     "inputWidgets": {},
     "nuid": "4891e6f8-ec7f-4132-8f46-98f3e7da454b",
     "showTitle": false,
     "title": ""
    }
   },
   "outputs": [
    {
     "output_type": "display_data",
     "data": {
      "text/html": [
       "<style scoped>\n",
       "  .ansiout {\n",
       "    display: block;\n",
       "    unicode-bidi: embed;\n",
       "    white-space: pre-wrap;\n",
       "    word-wrap: break-word;\n",
       "    word-break: break-all;\n",
       "    font-family: \"Menlo\", \"Monaco\", \"Consolas\", \"Ubuntu Mono\", \"Source Code Pro\", monospace;\n",
       "    font-size: 13px;\n",
       "    color: #555;\n",
       "    margin-left: 4px;\n",
       "    line-height: 19px;\n",
       "  }\n",
       "</style>\n",
       "<div class=\"ansiout\">False\n",
       "True\n",
       "True\n",
       "False\n",
       "</div>"
      ]
     },
     "metadata": {
      "application/vnd.databricks.v1+output": {
       "addedWidgets": {},
       "arguments": {},
       "data": "<div class=\"ansiout\">False\nTrue\nTrue\nFalse\n</div>",
       "datasetInfos": [],
       "metadata": {},
       "removedWidgets": [],
       "type": "html"
      }
     },
     "output_type": "display_data"
    }
   ],
   "source": [
    "from collections import defaultdict\n",
    "\n",
    "def DoLinkedListsIntersect(graph, slls):\n",
    "    # Create a dictionary to store the graph\n",
    "    graph_dict = defaultdict(list)\n",
    "    for edge in graph:\n",
    "        u, v = edge.split('->')\n",
    "        graph_dict[u].append(v)\n",
    "\n",
    "    # Iterate over each starting node in the SLLs\n",
    "    for sll in slls:\n",
    "        start_nodes = sll.split(',')\n",
    "        # Create a set to store visited nodes\n",
    "        visited = set()\n",
    "        for start_node in start_nodes:\n",
    "            # Traverse the SLL from the start node\n",
    "            curr_node = start_node\n",
    "            while curr_node:\n",
    "                # Check if the current node has already been visited\n",
    "                if curr_node in visited:\n",
    "                    return True\n",
    "                visited.add(curr_node)\n",
    "                # Follow the edge to the next node if available\n",
    "                next_nodes = graph_dict[curr_node]\n",
    "                if not next_nodes:  # No outgoing edges, end of linked list\n",
    "                    break\n",
    "                if len(next_nodes) > 1:\n",
    "                    raise ValueError(\"Input graph is not a valid singly-linked list.\")\n",
    "                curr_node = next_nodes[0]\n",
    "    return False\n",
    "\n",
    "# Test the function with the example input\n",
    "graph = ['a->b', 'r->s', 'b->c', 'x->c', 'q->r', 'y->x', 'w->z']\n",
    "slls = ['a,q,w', 'a,c,r', 'y,z,a,r', 'a,w']\n",
    "for sll in slls:\n",
    "    print(DoLinkedListsIntersect(graph, [sll]))"
   ]
  },
  {
   "cell_type": "markdown",
   "metadata": {
    "application/vnd.databricks.v1+cell": {
     "cellMetadata": {},
     "inputWidgets": {},
     "nuid": "7a1e6fe5-406d-4cae-b02a-6455fd4651c5",
     "showTitle": false,
     "title": ""
    }
   },
   "source": [
    "##Test"
   ]
  },
  {
   "cell_type": "code",
   "execution_count": 0,
   "metadata": {
    "application/vnd.databricks.v1+cell": {
     "cellMetadata": {
      "byteLimit": 2048000,
      "rowLimit": 10000
     },
     "inputWidgets": {},
     "nuid": "a9ba0189-541f-4ae7-bd69-8da004e98c99",
     "showTitle": false,
     "title": ""
    }
   },
   "outputs": [
    {
     "output_type": "display_data",
     "data": {
      "text/html": [
       "<style scoped>\n",
       "  .ansiout {\n",
       "    display: block;\n",
       "    unicode-bidi: embed;\n",
       "    white-space: pre-wrap;\n",
       "    word-wrap: break-word;\n",
       "    word-break: break-all;\n",
       "    font-family: \"Menlo\", \"Monaco\", \"Consolas\", \"Ubuntu Mono\", \"Source Code Pro\", monospace;\n",
       "    font-size: 13px;\n",
       "    color: #555;\n",
       "    margin-left: 4px;\n",
       "    line-height: 19px;\n",
       "  }\n",
       "</style>\n",
       "<div class=\"ansiout\">False\n",
       "False\n",
       "False\n",
       "False\n",
       "</div>"
      ]
     },
     "metadata": {
      "application/vnd.databricks.v1+output": {
       "addedWidgets": {},
       "arguments": {},
       "data": "<div class=\"ansiout\">False\nFalse\nFalse\nFalse\n</div>",
       "datasetInfos": [],
       "metadata": {},
       "removedWidgets": [],
       "type": "html"
      }
     },
     "output_type": "display_data"
    }
   ],
   "source": [
    "from collections import defaultdict\n",
    "\n",
    "def DoLinkedListsIntersect(graph, slls):\n",
    "    # Create a dictionary to store the graph\n",
    "    graph_dict = defaultdict(list)\n",
    "    for edge in graph:\n",
    "        u, v = edge.split('->')\n",
    "        graph_dict[u].append(v)\n",
    "\n",
    "    # Iterate over each starting node in the SLLs\n",
    "    for sll in slls:\n",
    "        start_nodes = sll.split(',')\n",
    "        # Create a set to store visited nodes\n",
    "        visited = set()\n",
    "        for start_node in start_nodes:\n",
    "            # Traverse the SLL from the start node\n",
    "            curr_node = start_node\n",
    "            while curr_node in graph_dict:\n",
    "                # Check if the current node has already been visited\n",
    "                if curr_node in visited:\n",
    "                    return True\n",
    "                visited.add(curr_node)\n",
    "                # Follow the edge to the next node\n",
    "                next_nodes = graph_dict[curr_node]\n",
    "                if len(next_nodes) > 1:\n",
    "                    raise ValueError(\"Input graph is not a valid singly-linked list.\")\n",
    "                curr_node = next_nodes[0]\n",
    "    return False\n",
    "\n",
    "# Test the function with the example input\n",
    "graph = ['a->b', 'r->s', 'b->c', 'x->c', 'q->r', 'y->x', 'w->z']\n",
    "slls = ['a,q,w', 'a,c,r', 'y,z,a,r', 'a,w']\n",
    "for sll in slls:\n",
    "    print(DoLinkedListsIntersect(graph, [sll]))\n"
   ]
  },
  {
   "cell_type": "code",
   "execution_count": 0,
   "metadata": {
    "application/vnd.databricks.v1+cell": {
     "cellMetadata": {
      "byteLimit": 2048000,
      "rowLimit": 10000
     },
     "inputWidgets": {},
     "nuid": "fc54a94f-6d6a-4678-80e3-0605def75e69",
     "showTitle": false,
     "title": ""
    }
   },
   "outputs": [
    {
     "output_type": "display_data",
     "data": {
      "text/html": [
       "<style scoped>\n",
       "  .ansiout {\n",
       "    display: block;\n",
       "    unicode-bidi: embed;\n",
       "    white-space: pre-wrap;\n",
       "    word-wrap: break-word;\n",
       "    word-break: break-all;\n",
       "    font-family: \"Menlo\", \"Monaco\", \"Consolas\", \"Ubuntu Mono\", \"Source Code Pro\", monospace;\n",
       "    font-size: 13px;\n",
       "    color: #555;\n",
       "    margin-left: 4px;\n",
       "    line-height: 19px;\n",
       "  }\n",
       "</style>\n",
       "<div class=\"ansiout\">[&#39;b&#39;]\n",
       "[&#39;c&#39;]\n",
       "[&#39;r&#39;]\n",
       "[&#39;s&#39;]\n",
       "[&#39;z&#39;]\n",
       "False\n",
       "[&#39;b&#39;]\n",
       "[&#39;c&#39;]\n",
       "[&#39;s&#39;]\n",
       "False\n",
       "[&#39;x&#39;]\n",
       "[&#39;c&#39;]\n",
       "[&#39;b&#39;]\n",
       "[&#39;c&#39;]\n",
       "[&#39;s&#39;]\n",
       "False\n",
       "[&#39;b&#39;]\n",
       "[&#39;c&#39;]\n",
       "[&#39;z&#39;]\n",
       "False\n",
       "</div>"
      ]
     },
     "metadata": {
      "application/vnd.databricks.v1+output": {
       "addedWidgets": {},
       "arguments": {},
       "data": "<div class=\"ansiout\">[&#39;b&#39;]\n[&#39;c&#39;]\n[&#39;r&#39;]\n[&#39;s&#39;]\n[&#39;z&#39;]\nFalse\n[&#39;b&#39;]\n[&#39;c&#39;]\n[&#39;s&#39;]\nFalse\n[&#39;x&#39;]\n[&#39;c&#39;]\n[&#39;b&#39;]\n[&#39;c&#39;]\n[&#39;s&#39;]\nFalse\n[&#39;b&#39;]\n[&#39;c&#39;]\n[&#39;z&#39;]\nFalse\n</div>",
       "datasetInfos": [],
       "metadata": {},
       "removedWidgets": [],
       "type": "html"
      }
     },
     "output_type": "display_data"
    }
   ],
   "source": [
    "from collections import defaultdict\n",
    "\n",
    "def DoLinkedListsIntersect(graph, slls):\n",
    "    # Create a dictionary to store the graph\n",
    "    graph_dict = defaultdict(list)\n",
    "    for edge in graph:\n",
    "        u, v = edge.split('->')\n",
    "        graph_dict[u].append(v)\n",
    "\n",
    "    # Iterate over each starting node in the SLLs\n",
    "    for sll in slls:\n",
    "        start_nodes = sll.split(',')\n",
    "        # print(start_nodes)\n",
    "        # Create a set to store visited nodes\n",
    "        visited = set()\n",
    "        for start_node in start_nodes:\n",
    "            # Traverse the SLL from the start node\n",
    "            curr_node = start_node\n",
    "            while curr_node in graph_dict:\n",
    "                print(graph_dict[curr_node])\n",
    "                # print(curr_node)\n",
    "                # Check if the current node has already been visited\n",
    "                if curr_node in visited:\n",
    "                    return True\n",
    "                visited.add(curr_node)\n",
    "                # visited.add(con)\n",
    "                curr_node = graph_dict[curr_node][0]\n",
    "                # print(visited)\n",
    "    return False\n",
    "\n",
    "# Test the function with the example input\n",
    "graph = ['a->b', 'r->s', 'b->c', 'x->c', 'q->r', 'y->x', 'w->z']\n",
    "slls = ['a,q,w', 'a,c,r', 'y,z,a,r', 'a,w']\n",
    "for sll in slls:\n",
    "    print(DoLinkedListsIntersect(graph, [sll]))\n"
   ]
  },
  {
   "cell_type": "code",
   "execution_count": 0,
   "metadata": {
    "application/vnd.databricks.v1+cell": {
     "cellMetadata": {
      "byteLimit": 2048000,
      "rowLimit": 10000
     },
     "inputWidgets": {},
     "nuid": "22455205-f1ba-49ed-adce-82c125688ae9",
     "showTitle": false,
     "title": ""
    }
   },
   "outputs": [
    {
     "output_type": "display_data",
     "data": {
      "text/html": [
       "<style scoped>\n",
       "  .ansiout {\n",
       "    display: block;\n",
       "    unicode-bidi: embed;\n",
       "    white-space: pre-wrap;\n",
       "    word-wrap: break-word;\n",
       "    word-break: break-all;\n",
       "    font-family: \"Menlo\", \"Monaco\", \"Consolas\", \"Ubuntu Mono\", \"Source Code Pro\", monospace;\n",
       "    font-size: 13px;\n",
       "    color: #555;\n",
       "    margin-left: 4px;\n",
       "    line-height: 19px;\n",
       "  }\n",
       "</style>\n",
       "<div class=\"ansiout\">a b\n",
       "r s\n",
       "b c\n",
       "x c\n",
       "q r\n",
       "y x\n",
       "w z\n",
       "False\n",
       "a b\n",
       "r s\n",
       "b c\n",
       "x c\n",
       "q r\n",
       "y x\n",
       "w z\n",
       "False\n",
       "a b\n",
       "r s\n",
       "b c\n",
       "x c\n",
       "q r\n",
       "y x\n",
       "w z\n",
       "False\n",
       "a b\n",
       "r s\n",
       "b c\n",
       "x c\n",
       "q r\n",
       "y x\n",
       "w z\n",
       "False\n",
       "</div>"
      ]
     },
     "metadata": {
      "application/vnd.databricks.v1+output": {
       "addedWidgets": {},
       "arguments": {},
       "data": "<div class=\"ansiout\">a b\nr s\nb c\nx c\nq r\ny x\nw z\nFalse\na b\nr s\nb c\nx c\nq r\ny x\nw z\nFalse\na b\nr s\nb c\nx c\nq r\ny x\nw z\nFalse\na b\nr s\nb c\nx c\nq r\ny x\nw z\nFalse\n</div>",
       "datasetInfos": [],
       "metadata": {},
       "removedWidgets": [],
       "type": "html"
      }
     },
     "output_type": "display_data"
    }
   ],
   "source": [
    "from collections import defaultdict\n",
    "\n",
    "def DoLinkedListsIntersect(graph, slls):\n",
    "    # Create a dictionary to store the graph\n",
    "    graph_dict = defaultdict(list)\n",
    "    for edge in graph:\n",
    "        u, v = edge.split('->')\n",
    "        graph_dict[u].append(v)\n",
    "        print(u, v)\n",
    "\n",
    "\n",
    "    # Iterate over each starting node in the SLLs\n",
    "    for sll in slls:\n",
    "        start_nodes = sll.split(',')\n",
    "        # print(start_nodes)\n",
    "        # Create a set to store visited nodes\n",
    "        visited = set()\n",
    "        for start_node in start_nodes:\n",
    "            # Traverse the SLL from the start node\n",
    "            curr_node = start_node\n",
    "            while curr_node in graph_dict:\n",
    "                # print(curr_node)\n",
    "                # Check if the current node has already been visited\n",
    "                if curr_node in visited:\n",
    "                    return True\n",
    "                visited.add(curr_node)\n",
    "                curr_node = graph_dict[curr_node][0]\n",
    "                # print(visited)\n",
    "    return False\n",
    "\n",
    "# Test the function with the example input\n",
    "graph = ['a->b', 'r->s', 'b->c', 'x->c', 'q->r', 'y->x', 'w->z']\n",
    "slls = ['a,q,w', 'a,c,r', 'y,z,a,r', 'a,w']\n",
    "for sll in slls:\n",
    "    print(DoLinkedListsIntersect(graph, [sll]))\n"
   ]
  },
  {
   "cell_type": "code",
   "execution_count": 0,
   "metadata": {
    "application/vnd.databricks.v1+cell": {
     "cellMetadata": {
      "byteLimit": 2048000,
      "rowLimit": 10000
     },
     "inputWidgets": {},
     "nuid": "d0029b02-1f94-414b-8cca-64d156b052f1",
     "showTitle": false,
     "title": ""
    }
   },
   "outputs": [
    {
     "output_type": "display_data",
     "data": {
      "text/html": [
       "<style scoped>\n",
       "  .ansiout {\n",
       "    display: block;\n",
       "    unicode-bidi: embed;\n",
       "    white-space: pre-wrap;\n",
       "    word-wrap: break-word;\n",
       "    word-break: break-all;\n",
       "    font-family: \"Menlo\", \"Monaco\", \"Consolas\", \"Ubuntu Mono\", \"Source Code Pro\", monospace;\n",
       "    font-size: 13px;\n",
       "    color: #555;\n",
       "    margin-left: 4px;\n",
       "    line-height: 19px;\n",
       "  }\n",
       "</style>\n",
       "<div class=\"ansiout\">defaultdict(&lt;class &#39;list&#39;&gt;, {&#39;a&#39;: [&#39;b&#39;]})\n",
       "defaultdict(&lt;class &#39;list&#39;&gt;, {&#39;a&#39;: [&#39;b&#39;], &#39;r&#39;: [&#39;s&#39;]})\n",
       "defaultdict(&lt;class &#39;list&#39;&gt;, {&#39;a&#39;: [&#39;b&#39;], &#39;r&#39;: [&#39;s&#39;], &#39;b&#39;: [&#39;c&#39;]})\n",
       "defaultdict(&lt;class &#39;list&#39;&gt;, {&#39;a&#39;: [&#39;b&#39;], &#39;r&#39;: [&#39;s&#39;], &#39;b&#39;: [&#39;c&#39;], &#39;x&#39;: [&#39;c&#39;]})\n",
       "defaultdict(&lt;class &#39;list&#39;&gt;, {&#39;a&#39;: [&#39;b&#39;], &#39;r&#39;: [&#39;s&#39;], &#39;b&#39;: [&#39;c&#39;], &#39;x&#39;: [&#39;c&#39;], &#39;q&#39;: [&#39;r&#39;]})\n",
       "defaultdict(&lt;class &#39;list&#39;&gt;, {&#39;a&#39;: [&#39;b&#39;], &#39;r&#39;: [&#39;s&#39;], &#39;b&#39;: [&#39;c&#39;], &#39;x&#39;: [&#39;c&#39;], &#39;q&#39;: [&#39;r&#39;], &#39;y&#39;: [&#39;x&#39;]})\n",
       "defaultdict(&lt;class &#39;list&#39;&gt;, {&#39;a&#39;: [&#39;b&#39;], &#39;r&#39;: [&#39;s&#39;], &#39;b&#39;: [&#39;c&#39;], &#39;x&#39;: [&#39;c&#39;], &#39;q&#39;: [&#39;r&#39;], &#39;y&#39;: [&#39;x&#39;], &#39;w&#39;: [&#39;z&#39;]})\n",
       "False\n",
       "defaultdict(&lt;class &#39;list&#39;&gt;, {&#39;a&#39;: [&#39;b&#39;]})\n",
       "defaultdict(&lt;class &#39;list&#39;&gt;, {&#39;a&#39;: [&#39;b&#39;], &#39;r&#39;: [&#39;s&#39;]})\n",
       "defaultdict(&lt;class &#39;list&#39;&gt;, {&#39;a&#39;: [&#39;b&#39;], &#39;r&#39;: [&#39;s&#39;], &#39;b&#39;: [&#39;c&#39;]})\n",
       "defaultdict(&lt;class &#39;list&#39;&gt;, {&#39;a&#39;: [&#39;b&#39;], &#39;r&#39;: [&#39;s&#39;], &#39;b&#39;: [&#39;c&#39;], &#39;x&#39;: [&#39;c&#39;]})\n",
       "defaultdict(&lt;class &#39;list&#39;&gt;, {&#39;a&#39;: [&#39;b&#39;], &#39;r&#39;: [&#39;s&#39;], &#39;b&#39;: [&#39;c&#39;], &#39;x&#39;: [&#39;c&#39;], &#39;q&#39;: [&#39;r&#39;]})\n",
       "defaultdict(&lt;class &#39;list&#39;&gt;, {&#39;a&#39;: [&#39;b&#39;], &#39;r&#39;: [&#39;s&#39;], &#39;b&#39;: [&#39;c&#39;], &#39;x&#39;: [&#39;c&#39;], &#39;q&#39;: [&#39;r&#39;], &#39;y&#39;: [&#39;x&#39;]})\n",
       "defaultdict(&lt;class &#39;list&#39;&gt;, {&#39;a&#39;: [&#39;b&#39;], &#39;r&#39;: [&#39;s&#39;], &#39;b&#39;: [&#39;c&#39;], &#39;x&#39;: [&#39;c&#39;], &#39;q&#39;: [&#39;r&#39;], &#39;y&#39;: [&#39;x&#39;], &#39;w&#39;: [&#39;z&#39;]})\n",
       "False\n",
       "defaultdict(&lt;class &#39;list&#39;&gt;, {&#39;a&#39;: [&#39;b&#39;]})\n",
       "defaultdict(&lt;class &#39;list&#39;&gt;, {&#39;a&#39;: [&#39;b&#39;], &#39;r&#39;: [&#39;s&#39;]})\n",
       "defaultdict(&lt;class &#39;list&#39;&gt;, {&#39;a&#39;: [&#39;b&#39;], &#39;r&#39;: [&#39;s&#39;], &#39;b&#39;: [&#39;c&#39;]})\n",
       "defaultdict(&lt;class &#39;list&#39;&gt;, {&#39;a&#39;: [&#39;b&#39;], &#39;r&#39;: [&#39;s&#39;], &#39;b&#39;: [&#39;c&#39;], &#39;x&#39;: [&#39;c&#39;]})\n",
       "defaultdict(&lt;class &#39;list&#39;&gt;, {&#39;a&#39;: [&#39;b&#39;], &#39;r&#39;: [&#39;s&#39;], &#39;b&#39;: [&#39;c&#39;], &#39;x&#39;: [&#39;c&#39;], &#39;q&#39;: [&#39;r&#39;]})\n",
       "defaultdict(&lt;class &#39;list&#39;&gt;, {&#39;a&#39;: [&#39;b&#39;], &#39;r&#39;: [&#39;s&#39;], &#39;b&#39;: [&#39;c&#39;], &#39;x&#39;: [&#39;c&#39;], &#39;q&#39;: [&#39;r&#39;], &#39;y&#39;: [&#39;x&#39;]})\n",
       "defaultdict(&lt;class &#39;list&#39;&gt;, {&#39;a&#39;: [&#39;b&#39;], &#39;r&#39;: [&#39;s&#39;], &#39;b&#39;: [&#39;c&#39;], &#39;x&#39;: [&#39;c&#39;], &#39;q&#39;: [&#39;r&#39;], &#39;y&#39;: [&#39;x&#39;], &#39;w&#39;: [&#39;z&#39;]})\n",
       "False\n",
       "defaultdict(&lt;class &#39;list&#39;&gt;, {&#39;a&#39;: [&#39;b&#39;]})\n",
       "defaultdict(&lt;class &#39;list&#39;&gt;, {&#39;a&#39;: [&#39;b&#39;], &#39;r&#39;: [&#39;s&#39;]})\n",
       "defaultdict(&lt;class &#39;list&#39;&gt;, {&#39;a&#39;: [&#39;b&#39;], &#39;r&#39;: [&#39;s&#39;], &#39;b&#39;: [&#39;c&#39;]})\n",
       "defaultdict(&lt;class &#39;list&#39;&gt;, {&#39;a&#39;: [&#39;b&#39;], &#39;r&#39;: [&#39;s&#39;], &#39;b&#39;: [&#39;c&#39;], &#39;x&#39;: [&#39;c&#39;]})\n",
       "defaultdict(&lt;class &#39;list&#39;&gt;, {&#39;a&#39;: [&#39;b&#39;], &#39;r&#39;: [&#39;s&#39;], &#39;b&#39;: [&#39;c&#39;], &#39;x&#39;: [&#39;c&#39;], &#39;q&#39;: [&#39;r&#39;]})\n",
       "defaultdict(&lt;class &#39;list&#39;&gt;, {&#39;a&#39;: [&#39;b&#39;], &#39;r&#39;: [&#39;s&#39;], &#39;b&#39;: [&#39;c&#39;], &#39;x&#39;: [&#39;c&#39;], &#39;q&#39;: [&#39;r&#39;], &#39;y&#39;: [&#39;x&#39;]})\n",
       "defaultdict(&lt;class &#39;list&#39;&gt;, {&#39;a&#39;: [&#39;b&#39;], &#39;r&#39;: [&#39;s&#39;], &#39;b&#39;: [&#39;c&#39;], &#39;x&#39;: [&#39;c&#39;], &#39;q&#39;: [&#39;r&#39;], &#39;y&#39;: [&#39;x&#39;], &#39;w&#39;: [&#39;z&#39;]})\n",
       "False\n",
       "</div>"
      ]
     },
     "metadata": {
      "application/vnd.databricks.v1+output": {
       "addedWidgets": {},
       "arguments": {},
       "data": "<div class=\"ansiout\">defaultdict(&lt;class &#39;list&#39;&gt;, {&#39;a&#39;: [&#39;b&#39;]})\ndefaultdict(&lt;class &#39;list&#39;&gt;, {&#39;a&#39;: [&#39;b&#39;], &#39;r&#39;: [&#39;s&#39;]})\ndefaultdict(&lt;class &#39;list&#39;&gt;, {&#39;a&#39;: [&#39;b&#39;], &#39;r&#39;: [&#39;s&#39;], &#39;b&#39;: [&#39;c&#39;]})\ndefaultdict(&lt;class &#39;list&#39;&gt;, {&#39;a&#39;: [&#39;b&#39;], &#39;r&#39;: [&#39;s&#39;], &#39;b&#39;: [&#39;c&#39;], &#39;x&#39;: [&#39;c&#39;]})\ndefaultdict(&lt;class &#39;list&#39;&gt;, {&#39;a&#39;: [&#39;b&#39;], &#39;r&#39;: [&#39;s&#39;], &#39;b&#39;: [&#39;c&#39;], &#39;x&#39;: [&#39;c&#39;], &#39;q&#39;: [&#39;r&#39;]})\ndefaultdict(&lt;class &#39;list&#39;&gt;, {&#39;a&#39;: [&#39;b&#39;], &#39;r&#39;: [&#39;s&#39;], &#39;b&#39;: [&#39;c&#39;], &#39;x&#39;: [&#39;c&#39;], &#39;q&#39;: [&#39;r&#39;], &#39;y&#39;: [&#39;x&#39;]})\ndefaultdict(&lt;class &#39;list&#39;&gt;, {&#39;a&#39;: [&#39;b&#39;], &#39;r&#39;: [&#39;s&#39;], &#39;b&#39;: [&#39;c&#39;], &#39;x&#39;: [&#39;c&#39;], &#39;q&#39;: [&#39;r&#39;], &#39;y&#39;: [&#39;x&#39;], &#39;w&#39;: [&#39;z&#39;]})\nFalse\ndefaultdict(&lt;class &#39;list&#39;&gt;, {&#39;a&#39;: [&#39;b&#39;]})\ndefaultdict(&lt;class &#39;list&#39;&gt;, {&#39;a&#39;: [&#39;b&#39;], &#39;r&#39;: [&#39;s&#39;]})\ndefaultdict(&lt;class &#39;list&#39;&gt;, {&#39;a&#39;: [&#39;b&#39;], &#39;r&#39;: [&#39;s&#39;], &#39;b&#39;: [&#39;c&#39;]})\ndefaultdict(&lt;class &#39;list&#39;&gt;, {&#39;a&#39;: [&#39;b&#39;], &#39;r&#39;: [&#39;s&#39;], &#39;b&#39;: [&#39;c&#39;], &#39;x&#39;: [&#39;c&#39;]})\ndefaultdict(&lt;class &#39;list&#39;&gt;, {&#39;a&#39;: [&#39;b&#39;], &#39;r&#39;: [&#39;s&#39;], &#39;b&#39;: [&#39;c&#39;], &#39;x&#39;: [&#39;c&#39;], &#39;q&#39;: [&#39;r&#39;]})\ndefaultdict(&lt;class &#39;list&#39;&gt;, {&#39;a&#39;: [&#39;b&#39;], &#39;r&#39;: [&#39;s&#39;], &#39;b&#39;: [&#39;c&#39;], &#39;x&#39;: [&#39;c&#39;], &#39;q&#39;: [&#39;r&#39;], &#39;y&#39;: [&#39;x&#39;]})\ndefaultdict(&lt;class &#39;list&#39;&gt;, {&#39;a&#39;: [&#39;b&#39;], &#39;r&#39;: [&#39;s&#39;], &#39;b&#39;: [&#39;c&#39;], &#39;x&#39;: [&#39;c&#39;], &#39;q&#39;: [&#39;r&#39;], &#39;y&#39;: [&#39;x&#39;], &#39;w&#39;: [&#39;z&#39;]})\nFalse\ndefaultdict(&lt;class &#39;list&#39;&gt;, {&#39;a&#39;: [&#39;b&#39;]})\ndefaultdict(&lt;class &#39;list&#39;&gt;, {&#39;a&#39;: [&#39;b&#39;], &#39;r&#39;: [&#39;s&#39;]})\ndefaultdict(&lt;class &#39;list&#39;&gt;, {&#39;a&#39;: [&#39;b&#39;], &#39;r&#39;: [&#39;s&#39;], &#39;b&#39;: [&#39;c&#39;]})\ndefaultdict(&lt;class &#39;list&#39;&gt;, {&#39;a&#39;: [&#39;b&#39;], &#39;r&#39;: [&#39;s&#39;], &#39;b&#39;: [&#39;c&#39;], &#39;x&#39;: [&#39;c&#39;]})\ndefaultdict(&lt;class &#39;list&#39;&gt;, {&#39;a&#39;: [&#39;b&#39;], &#39;r&#39;: [&#39;s&#39;], &#39;b&#39;: [&#39;c&#39;], &#39;x&#39;: [&#39;c&#39;], &#39;q&#39;: [&#39;r&#39;]})\ndefaultdict(&lt;class &#39;list&#39;&gt;, {&#39;a&#39;: [&#39;b&#39;], &#39;r&#39;: [&#39;s&#39;], &#39;b&#39;: [&#39;c&#39;], &#39;x&#39;: [&#39;c&#39;], &#39;q&#39;: [&#39;r&#39;], &#39;y&#39;: [&#39;x&#39;]})\ndefaultdict(&lt;class &#39;list&#39;&gt;, {&#39;a&#39;: [&#39;b&#39;], &#39;r&#39;: [&#39;s&#39;], &#39;b&#39;: [&#39;c&#39;], &#39;x&#39;: [&#39;c&#39;], &#39;q&#39;: [&#39;r&#39;], &#39;y&#39;: [&#39;x&#39;], &#39;w&#39;: [&#39;z&#39;]})\nFalse\ndefaultdict(&lt;class &#39;list&#39;&gt;, {&#39;a&#39;: [&#39;b&#39;]})\ndefaultdict(&lt;class &#39;list&#39;&gt;, {&#39;a&#39;: [&#39;b&#39;], &#39;r&#39;: [&#39;s&#39;]})\ndefaultdict(&lt;class &#39;list&#39;&gt;, {&#39;a&#39;: [&#39;b&#39;], &#39;r&#39;: [&#39;s&#39;], &#39;b&#39;: [&#39;c&#39;]})\ndefaultdict(&lt;class &#39;list&#39;&gt;, {&#39;a&#39;: [&#39;b&#39;], &#39;r&#39;: [&#39;s&#39;], &#39;b&#39;: [&#39;c&#39;], &#39;x&#39;: [&#39;c&#39;]})\ndefaultdict(&lt;class &#39;list&#39;&gt;, {&#39;a&#39;: [&#39;b&#39;], &#39;r&#39;: [&#39;s&#39;], &#39;b&#39;: [&#39;c&#39;], &#39;x&#39;: [&#39;c&#39;], &#39;q&#39;: [&#39;r&#39;]})\ndefaultdict(&lt;class &#39;list&#39;&gt;, {&#39;a&#39;: [&#39;b&#39;], &#39;r&#39;: [&#39;s&#39;], &#39;b&#39;: [&#39;c&#39;], &#39;x&#39;: [&#39;c&#39;], &#39;q&#39;: [&#39;r&#39;], &#39;y&#39;: [&#39;x&#39;]})\ndefaultdict(&lt;class &#39;list&#39;&gt;, {&#39;a&#39;: [&#39;b&#39;], &#39;r&#39;: [&#39;s&#39;], &#39;b&#39;: [&#39;c&#39;], &#39;x&#39;: [&#39;c&#39;], &#39;q&#39;: [&#39;r&#39;], &#39;y&#39;: [&#39;x&#39;], &#39;w&#39;: [&#39;z&#39;]})\nFalse\n</div>",
       "datasetInfos": [],
       "metadata": {},
       "removedWidgets": [],
       "type": "html"
      }
     },
     "output_type": "display_data"
    }
   ],
   "source": [
    "from collections import defaultdict\n",
    "\n",
    "def DoLinkedListsIntersect(graph, slls):\n",
    "    # Create a dictionary to store the graph\n",
    "    graph_dict = defaultdict(list)\n",
    "    for edge in graph:\n",
    "        u, v = edge.split('->')\n",
    "        graph_dict[u].append(v)\n",
    "        print(graph_dict)\n",
    "\n",
    "    # Iterate over each starting node in the SLLs\n",
    "    for sll in slls:\n",
    "        start_nodes = sll.split(',')\n",
    "        # print(start_nodes)\n",
    "        # Create a set to store visited nodes\n",
    "        visited = set()\n",
    "        for start_node in start_nodes:\n",
    "            # Traverse the SLL from the start node\n",
    "            curr_node = start_node\n",
    "            while curr_node in graph_dict:\n",
    "                # print(curr_node)\n",
    "                # Check if the current node has already been visited\n",
    "                if curr_node in visited:\n",
    "                    return True\n",
    "                visited.add(curr_node)\n",
    "                curr_node = graph_dict[curr_node][0]\n",
    "                # print(visited)\n",
    "    return False\n",
    "\n",
    "# Test the function with the example input\n",
    "graph = ['a->b', 'r->s', 'b->c', 'x->c', 'q->r', 'y->x', 'w->z']\n",
    "slls = ['a,q,w', 'a,c,r', 'y,z,a,r', 'a,w']\n",
    "for sll in slls:\n",
    "    print(DoLinkedListsIntersect(graph, [sll]))\n"
   ]
  },
  {
   "cell_type": "code",
   "execution_count": 0,
   "metadata": {
    "application/vnd.databricks.v1+cell": {
     "cellMetadata": {
      "byteLimit": 2048000,
      "rowLimit": 10000
     },
     "inputWidgets": {},
     "nuid": "5e0292fa-0aba-49eb-936a-615683217b83",
     "showTitle": false,
     "title": ""
    }
   },
   "outputs": [
    {
     "output_type": "display_data",
     "data": {
      "text/html": [
       "<style scoped>\n",
       "  .ansiout {\n",
       "    display: block;\n",
       "    unicode-bidi: embed;\n",
       "    white-space: pre-wrap;\n",
       "    word-wrap: break-word;\n",
       "    word-break: break-all;\n",
       "    font-family: \"Menlo\", \"Monaco\", \"Consolas\", \"Ubuntu Mono\", \"Source Code Pro\", monospace;\n",
       "    font-size: 13px;\n",
       "    color: #555;\n",
       "    margin-left: 4px;\n",
       "    line-height: 19px;\n",
       "  }\n",
       "</style>\n",
       "<div class=\"ansiout\">[&#39;a&#39;, &#39;q&#39;, &#39;w&#39;]\n",
       "False\n",
       "[&#39;a&#39;, &#39;c&#39;, &#39;r&#39;]\n",
       "False\n",
       "[&#39;y&#39;, &#39;z&#39;, &#39;a&#39;, &#39;r&#39;]\n",
       "False\n",
       "[&#39;a&#39;, &#39;w&#39;]\n",
       "False\n",
       "</div>"
      ]
     },
     "metadata": {
      "application/vnd.databricks.v1+output": {
       "addedWidgets": {},
       "arguments": {},
       "data": "<div class=\"ansiout\">[&#39;a&#39;, &#39;q&#39;, &#39;w&#39;]\nFalse\n[&#39;a&#39;, &#39;c&#39;, &#39;r&#39;]\nFalse\n[&#39;y&#39;, &#39;z&#39;, &#39;a&#39;, &#39;r&#39;]\nFalse\n[&#39;a&#39;, &#39;w&#39;]\nFalse\n</div>",
       "datasetInfos": [],
       "metadata": {},
       "removedWidgets": [],
       "type": "html"
      }
     },
     "output_type": "display_data"
    }
   ],
   "source": [
    "from collections import defaultdict\n",
    "\n",
    "def DoLinkedListsIntersect(graph, slls):\n",
    "    # Create a dictionary to store the graph\n",
    "    graph_dict = defaultdict(list)\n",
    "    for edge in graph:\n",
    "        u, v = edge.split('->')\n",
    "        graph_dict[u].append(v)\n",
    "\n",
    "    # Iterate over each starting node in the SLLs\n",
    "    for sll in slls:\n",
    "        start_nodes = sll.split(',')\n",
    "        print(start_nodes)\n",
    "        # Create a set to store visited nodes\n",
    "        visited = set()\n",
    "        for start_node in start_nodes:\n",
    "            # Traverse the SLL from the start node\n",
    "            curr_node = start_node\n",
    "            while curr_node in graph_dict:\n",
    "                # print(curr_node)\n",
    "                # Check if the current node has already been visited\n",
    "                if curr_node in visited:\n",
    "                    return True\n",
    "                visited.add(curr_node)\n",
    "                curr_node = graph_dict[curr_node][0]\n",
    "                # print(visited)\n",
    "    return False\n",
    "\n",
    "# Test the function with the example input\n",
    "graph = ['a->b', 'r->s', 'b->c', 'x->c', 'q->r', 'y->x', 'w->z']\n",
    "slls = ['a,q,w', 'a,c,r', 'y,z,a,r', 'a,w']\n",
    "for sll in slls:\n",
    "    print(DoLinkedListsIntersect(graph, [sll]))\n"
   ]
  },
  {
   "cell_type": "code",
   "execution_count": 0,
   "metadata": {
    "application/vnd.databricks.v1+cell": {
     "cellMetadata": {
      "byteLimit": 2048000,
      "rowLimit": 10000
     },
     "inputWidgets": {},
     "nuid": "bc0dd062-7373-49ee-9a24-77a7ae0fc54e",
     "showTitle": false,
     "title": ""
    }
   },
   "outputs": [
    {
     "output_type": "display_data",
     "data": {
      "text/html": [
       "<style scoped>\n",
       "  .ansiout {\n",
       "    display: block;\n",
       "    unicode-bidi: embed;\n",
       "    white-space: pre-wrap;\n",
       "    word-wrap: break-word;\n",
       "    word-break: break-all;\n",
       "    font-family: \"Menlo\", \"Monaco\", \"Consolas\", \"Ubuntu Mono\", \"Source Code Pro\", monospace;\n",
       "    font-size: 13px;\n",
       "    color: #555;\n",
       "    margin-left: 4px;\n",
       "    line-height: 19px;\n",
       "  }\n",
       "</style>\n",
       "<div class=\"ansiout\">a\n",
       "q\n",
       "w\n",
       "False\n",
       "a\n",
       "c\n",
       "r\n",
       "False\n",
       "y\n",
       "z\n",
       "a\n",
       "r\n",
       "False\n",
       "a\n",
       "w\n",
       "False\n",
       "</div>"
      ]
     },
     "metadata": {
      "application/vnd.databricks.v1+output": {
       "addedWidgets": {},
       "arguments": {},
       "data": "<div class=\"ansiout\">a\nq\nw\nFalse\na\nc\nr\nFalse\ny\nz\na\nr\nFalse\na\nw\nFalse\n</div>",
       "datasetInfos": [],
       "metadata": {},
       "removedWidgets": [],
       "type": "html"
      }
     },
     "output_type": "display_data"
    }
   ],
   "source": [
    "from collections import defaultdict\n",
    "\n",
    "def DoLinkedListsIntersect(graph, slls):\n",
    "    # Create a dictionary to store the graph\n",
    "    graph_dict = defaultdict(list)\n",
    "    for edge in graph:\n",
    "        u, v = edge.split('->')\n",
    "        graph_dict[u].append(v)\n",
    "\n",
    "    # Iterate over each starting node in the SLLs\n",
    "    for sll in slls:\n",
    "        start_nodes = sll.split(',')\n",
    "        # print(start_nodes)\n",
    "        # Create a set to store visited nodes\n",
    "        visited = set()\n",
    "        for start_node in start_nodes:\n",
    "            # Traverse the SLL from the start node\n",
    "            curr_node = start_node\n",
    "            print(curr_node)\n",
    "            while curr_node in graph_dict:\n",
    "                # print(curr_node)\n",
    "                # Check if the current node has already been visited\n",
    "                if curr_node in visited:\n",
    "                    return True\n",
    "                visited.add(curr_node)\n",
    "                curr_node = graph_dict[curr_node][0]\n",
    "                # print(visited)\n",
    "    return False\n",
    "\n",
    "# Test the function with the example input\n",
    "graph = ['a->b', 'r->s', 'b->c', 'x->c', 'q->r', 'y->x', 'w->z']\n",
    "slls = ['a,q,w', 'a,c,r', 'y,z,a,r', 'a,w']\n",
    "for sll in slls:\n",
    "    print(DoLinkedListsIntersect(graph, [sll]))\n"
   ]
  },
  {
   "cell_type": "code",
   "execution_count": 0,
   "metadata": {
    "application/vnd.databricks.v1+cell": {
     "cellMetadata": {
      "byteLimit": 2048000,
      "rowLimit": 10000
     },
     "inputWidgets": {},
     "nuid": "48583dda-3f5e-41fb-b2e7-a31a96776551",
     "showTitle": false,
     "title": ""
    }
   },
   "outputs": [
    {
     "output_type": "display_data",
     "data": {
      "text/html": [
       "<style scoped>\n",
       "  .ansiout {\n",
       "    display: block;\n",
       "    unicode-bidi: embed;\n",
       "    white-space: pre-wrap;\n",
       "    word-wrap: break-word;\n",
       "    word-break: break-all;\n",
       "    font-family: \"Menlo\", \"Monaco\", \"Consolas\", \"Ubuntu Mono\", \"Source Code Pro\", monospace;\n",
       "    font-size: 13px;\n",
       "    color: #555;\n",
       "    margin-left: 4px;\n",
       "    line-height: 19px;\n",
       "  }\n",
       "</style>\n",
       "<div class=\"ansiout\">a\n",
       "b\n",
       "q\n",
       "r\n",
       "w\n",
       "False\n",
       "a\n",
       "b\n",
       "r\n",
       "False\n",
       "y\n",
       "x\n",
       "a\n",
       "b\n",
       "r\n",
       "False\n",
       "a\n",
       "b\n",
       "w\n",
       "False\n",
       "</div>"
      ]
     },
     "metadata": {
      "application/vnd.databricks.v1+output": {
       "addedWidgets": {},
       "arguments": {},
       "data": "<div class=\"ansiout\">a\nb\nq\nr\nw\nFalse\na\nb\nr\nFalse\ny\nx\na\nb\nr\nFalse\na\nb\nw\nFalse\n</div>",
       "datasetInfos": [],
       "metadata": {},
       "removedWidgets": [],
       "type": "html"
      }
     },
     "output_type": "display_data"
    }
   ],
   "source": [
    "from collections import defaultdict\n",
    "\n",
    "def DoLinkedListsIntersect(graph, slls):\n",
    "    # Create a dictionary to store the graph\n",
    "    graph_dict = defaultdict(list)\n",
    "    for edge in graph:\n",
    "        u, v = edge.split('->')\n",
    "        graph_dict[u].append(v)\n",
    "\n",
    "    # Iterate over each starting node in the SLLs\n",
    "    for sll in slls:\n",
    "        start_nodes = sll.split(',')\n",
    "        # print(start_nodes)\n",
    "        # Create a set to store visited nodes\n",
    "        visited = set()\n",
    "        for start_node in start_nodes:\n",
    "            # Traverse the SLL from the start node\n",
    "            curr_node = start_node\n",
    "            while curr_node in graph_dict:\n",
    "                print(curr_node)\n",
    "                # Check if the current node has already been visited\n",
    "                if curr_node in visited:\n",
    "                    return True\n",
    "                visited.add(curr_node)\n",
    "                curr_node = graph_dict[curr_node][0]\n",
    "                # print(visited)\n",
    "    return False\n",
    "\n",
    "# Test the function with the example input\n",
    "graph = ['a->b', 'r->s', 'b->c', 'x->c', 'q->r', 'y->x', 'w->z']\n",
    "slls = ['a,q,w', 'a,c,r', 'y,z,a,r', 'a,w']\n",
    "for sll in slls:\n",
    "    print(DoLinkedListsIntersect(graph, [sll]))\n"
   ]
  },
  {
   "cell_type": "code",
   "execution_count": 0,
   "metadata": {
    "application/vnd.databricks.v1+cell": {
     "cellMetadata": {
      "byteLimit": 2048000,
      "rowLimit": 10000
     },
     "inputWidgets": {},
     "nuid": "fab91407-fb3f-4684-a9fa-5fcfea91005c",
     "showTitle": false,
     "title": ""
    }
   },
   "outputs": [
    {
     "output_type": "display_data",
     "data": {
      "text/html": [
       "<style scoped>\n",
       "  .ansiout {\n",
       "    display: block;\n",
       "    unicode-bidi: embed;\n",
       "    white-space: pre-wrap;\n",
       "    word-wrap: break-word;\n",
       "    word-break: break-all;\n",
       "    font-family: \"Menlo\", \"Monaco\", \"Consolas\", \"Ubuntu Mono\", \"Source Code Pro\", monospace;\n",
       "    font-size: 13px;\n",
       "    color: #555;\n",
       "    margin-left: 4px;\n",
       "    line-height: 19px;\n",
       "  }\n",
       "</style>\n",
       "<div class=\"ansiout\">[&#39;a&#39;, &#39;q&#39;, &#39;w&#39;]\n",
       "False\n",
       "[&#39;a&#39;, &#39;c&#39;, &#39;r&#39;]\n",
       "False\n",
       "[&#39;y&#39;, &#39;z&#39;, &#39;a&#39;, &#39;r&#39;]\n",
       "False\n",
       "[&#39;a&#39;, &#39;w&#39;]\n",
       "False\n",
       "</div>"
      ]
     },
     "metadata": {
      "application/vnd.databricks.v1+output": {
       "addedWidgets": {},
       "arguments": {},
       "data": "<div class=\"ansiout\">[&#39;a&#39;, &#39;q&#39;, &#39;w&#39;]\nFalse\n[&#39;a&#39;, &#39;c&#39;, &#39;r&#39;]\nFalse\n[&#39;y&#39;, &#39;z&#39;, &#39;a&#39;, &#39;r&#39;]\nFalse\n[&#39;a&#39;, &#39;w&#39;]\nFalse\n</div>",
       "datasetInfos": [],
       "metadata": {},
       "removedWidgets": [],
       "type": "html"
      }
     },
     "output_type": "display_data"
    }
   ],
   "source": []
  },
  {
   "cell_type": "code",
   "execution_count": 0,
   "metadata": {
    "application/vnd.databricks.v1+cell": {
     "cellMetadata": {
      "byteLimit": 2048000,
      "rowLimit": 10000
     },
     "inputWidgets": {},
     "nuid": "30fa1d22-7770-4c8f-ab14-4077e95f893b",
     "showTitle": false,
     "title": ""
    }
   },
   "outputs": [
    {
     "output_type": "display_data",
     "data": {
      "text/html": [
       "<style scoped>\n",
       "  .ansiout {\n",
       "    display: block;\n",
       "    unicode-bidi: embed;\n",
       "    white-space: pre-wrap;\n",
       "    word-wrap: break-word;\n",
       "    word-break: break-all;\n",
       "    font-family: \"Menlo\", \"Monaco\", \"Consolas\", \"Ubuntu Mono\", \"Source Code Pro\", monospace;\n",
       "    font-size: 13px;\n",
       "    color: #555;\n",
       "    margin-left: 4px;\n",
       "    line-height: 19px;\n",
       "  }\n",
       "</style>\n",
       "<div class=\"ansiout\">{&#39;a&#39;}\n",
       "{&#39;a&#39;, &#39;b&#39;}\n",
       "{&#39;a&#39;, &#39;q&#39;, &#39;b&#39;}\n",
       "{&#39;r&#39;, &#39;a&#39;, &#39;q&#39;, &#39;b&#39;}\n",
       "{&#39;q&#39;, &#39;b&#39;, &#39;r&#39;, &#39;a&#39;, &#39;w&#39;}\n",
       "False\n",
       "{&#39;a&#39;}\n",
       "{&#39;a&#39;, &#39;b&#39;}\n",
       "{&#39;r&#39;, &#39;a&#39;, &#39;b&#39;}\n",
       "False\n",
       "{&#39;y&#39;}\n",
       "{&#39;y&#39;, &#39;x&#39;}\n",
       "{&#39;y&#39;, &#39;a&#39;, &#39;x&#39;}\n",
       "{&#39;y&#39;, &#39;a&#39;, &#39;b&#39;, &#39;x&#39;}\n",
       "{&#39;b&#39;, &#39;x&#39;, &#39;r&#39;, &#39;a&#39;, &#39;y&#39;}\n",
       "False\n",
       "{&#39;a&#39;}\n",
       "{&#39;a&#39;, &#39;b&#39;}\n",
       "{&#39;a&#39;, &#39;b&#39;, &#39;w&#39;}\n",
       "False\n",
       "</div>"
      ]
     },
     "metadata": {
      "application/vnd.databricks.v1+output": {
       "addedWidgets": {},
       "arguments": {},
       "data": "<div class=\"ansiout\">{&#39;a&#39;}\n{&#39;a&#39;, &#39;b&#39;}\n{&#39;a&#39;, &#39;q&#39;, &#39;b&#39;}\n{&#39;r&#39;, &#39;a&#39;, &#39;q&#39;, &#39;b&#39;}\n{&#39;q&#39;, &#39;b&#39;, &#39;r&#39;, &#39;a&#39;, &#39;w&#39;}\nFalse\n{&#39;a&#39;}\n{&#39;a&#39;, &#39;b&#39;}\n{&#39;r&#39;, &#39;a&#39;, &#39;b&#39;}\nFalse\n{&#39;y&#39;}\n{&#39;y&#39;, &#39;x&#39;}\n{&#39;y&#39;, &#39;a&#39;, &#39;x&#39;}\n{&#39;y&#39;, &#39;a&#39;, &#39;b&#39;, &#39;x&#39;}\n{&#39;b&#39;, &#39;x&#39;, &#39;r&#39;, &#39;a&#39;, &#39;y&#39;}\nFalse\n{&#39;a&#39;}\n{&#39;a&#39;, &#39;b&#39;}\n{&#39;a&#39;, &#39;b&#39;, &#39;w&#39;}\nFalse\n</div>",
       "datasetInfos": [],
       "metadata": {},
       "removedWidgets": [],
       "type": "html"
      }
     },
     "output_type": "display_data"
    }
   ],
   "source": [
    "from collections import defaultdict\n",
    "\n",
    "def DoLinkedListsIntersect(graph, slls):\n",
    "    # Create a dictionary to store the graph\n",
    "    graph_dict = defaultdict(list)\n",
    "    for edge in graph:\n",
    "        u, v = edge.split('->')\n",
    "        graph_dict[u].append(v)\n",
    "\n",
    "    # Iterate over each starting node in the SLLs\n",
    "    for sll in slls:\n",
    "        start_nodes = sll.split(',')\n",
    "        # print(start_nodes)\n",
    "        # Create a set to store visited nodes\n",
    "        visited = set()\n",
    "        for start_node in start_nodes:\n",
    "            # Traverse the SLL from the start node\n",
    "            curr_node = start_node\n",
    "            while curr_node in graph_dict:\n",
    "                # print(curr_node)\n",
    "                # Check if the current node has already been visited\n",
    "                if curr_node in visited:\n",
    "                    return True\n",
    "                visited.add(curr_node)\n",
    "                curr_node = graph_dict[curr_node][0]\n",
    "                print(visited)\n",
    "    return False\n",
    "\n",
    "# Test the function with the example input\n",
    "graph = ['a->b', 'r->s', 'b->c', 'x->c', 'q->r', 'y->x', 'w->z']\n",
    "slls = ['a,q,w', 'a,c,r', 'y,z,a,r', 'a,w']\n",
    "for sll in slls:\n",
    "    print(DoLinkedListsIntersect(graph, [sll]))\n"
   ]
  },
  {
   "cell_type": "code",
   "execution_count": 0,
   "metadata": {
    "application/vnd.databricks.v1+cell": {
     "cellMetadata": {
      "byteLimit": 2048000,
      "rowLimit": 10000
     },
     "inputWidgets": {},
     "nuid": "5d2132d4-4f3a-4d81-aea2-61600833cb73",
     "showTitle": false,
     "title": ""
    }
   },
   "outputs": [
    {
     "output_type": "display_data",
     "data": {
      "text/html": [
       "<style scoped>\n",
       "  .ansiout {\n",
       "    display: block;\n",
       "    unicode-bidi: embed;\n",
       "    white-space: pre-wrap;\n",
       "    word-wrap: break-word;\n",
       "    word-break: break-all;\n",
       "    font-family: \"Menlo\", \"Monaco\", \"Consolas\", \"Ubuntu Mono\", \"Source Code Pro\", monospace;\n",
       "    font-size: 13px;\n",
       "    color: #555;\n",
       "    margin-left: 4px;\n",
       "    line-height: 19px;\n",
       "  }\n",
       "</style>\n",
       "<div class=\"ansiout\">defaultdict(&lt;class &#39;list&#39;&gt;, {})\n",
       "False\n",
       "defaultdict(&lt;class &#39;list&#39;&gt;, {})\n",
       "False\n",
       "defaultdict(&lt;class &#39;list&#39;&gt;, {})\n",
       "False\n",
       "defaultdict(&lt;class &#39;list&#39;&gt;, {})\n",
       "False\n",
       "</div>"
      ]
     },
     "metadata": {
      "application/vnd.databricks.v1+output": {
       "addedWidgets": {},
       "arguments": {},
       "data": "<div class=\"ansiout\">defaultdict(&lt;class &#39;list&#39;&gt;, {})\nFalse\ndefaultdict(&lt;class &#39;list&#39;&gt;, {})\nFalse\ndefaultdict(&lt;class &#39;list&#39;&gt;, {})\nFalse\ndefaultdict(&lt;class &#39;list&#39;&gt;, {})\nFalse\n</div>",
       "datasetInfos": [],
       "metadata": {},
       "removedWidgets": [],
       "type": "html"
      }
     },
     "output_type": "display_data"
    }
   ],
   "source": [
    "from collections import defaultdict\n",
    "\n",
    "def DoLinkedListsIntersect(graph, slls):\n",
    "    # Create a dictionary to store the graph\n",
    "    graph_dict = defaultdict(list)\n",
    "    print(graph_dict)\n",
    "    for edge in graph:\n",
    "        u, v = edge.split('->')\n",
    "        graph_dict[u].append(v)\n",
    "\n",
    "    # Iterate over each starting node in the SLLs\n",
    "    for sll in slls:\n",
    "        start_nodes = sll.split(',')\n",
    "        # print(start_nodes)\n",
    "        # Create a set to store visited nodes\n",
    "        visited = set()\n",
    "        for start_node in start_nodes:\n",
    "            # Traverse the SLL from the start node\n",
    "            curr_node = start_node\n",
    "            while curr_node in graph_dict:\n",
    "                # print(curr_node)\n",
    "                # Check if the current node has already been visited\n",
    "                if curr_node in visited:\n",
    "                    return True\n",
    "                visited.add(curr_node)\n",
    "                curr_node = graph_dict[curr_node][0]\n",
    "                # print(visited)\n",
    "    return False\n",
    "\n",
    "# Test the function with the example input\n",
    "graph = ['a->b', 'r->s', 'b->c', 'x->c', 'q->r', 'y->x', 'w->z']\n",
    "slls = ['a,q,w', 'a,c,r', 'y,z,a,r', 'a,w']\n",
    "for sll in slls:\n",
    "    print(DoLinkedListsIntersect(graph, [sll]))\n"
   ]
  },
  {
   "cell_type": "code",
   "execution_count": 0,
   "metadata": {
    "application/vnd.databricks.v1+cell": {
     "cellMetadata": {
      "byteLimit": 2048000,
      "rowLimit": 10000
     },
     "inputWidgets": {},
     "nuid": "0f902d38-3f31-4463-8538-6c723eba192d",
     "showTitle": false,
     "title": ""
    }
   },
   "outputs": [
    {
     "output_type": "display_data",
     "data": {
      "text/html": [
       "<style scoped>\n",
       "  .ansiout {\n",
       "    display: block;\n",
       "    unicode-bidi: embed;\n",
       "    white-space: pre-wrap;\n",
       "    word-wrap: break-word;\n",
       "    word-break: break-all;\n",
       "    font-family: \"Menlo\", \"Monaco\", \"Consolas\", \"Ubuntu Mono\", \"Source Code Pro\", monospace;\n",
       "    font-size: 13px;\n",
       "    color: #555;\n",
       "    margin-left: 4px;\n",
       "    line-height: 19px;\n",
       "  }\n",
       "</style>\n",
       "<div class=\"ansiout\">a\n",
       "b\n",
       "q\n",
       "r\n",
       "w\n",
       "False\n",
       "a\n",
       "b\n",
       "r\n",
       "False\n",
       "y\n",
       "x\n",
       "a\n",
       "b\n",
       "r\n",
       "False\n",
       "a\n",
       "b\n",
       "w\n",
       "False\n",
       "</div>"
      ]
     },
     "metadata": {
      "application/vnd.databricks.v1+output": {
       "addedWidgets": {},
       "arguments": {},
       "data": "<div class=\"ansiout\">a\nb\nq\nr\nw\nFalse\na\nb\nr\nFalse\ny\nx\na\nb\nr\nFalse\na\nb\nw\nFalse\n</div>",
       "datasetInfos": [],
       "metadata": {},
       "removedWidgets": [],
       "type": "html"
      }
     },
     "output_type": "display_data"
    }
   ],
   "source": [
    "from collections import defaultdict\n",
    "\n",
    "def DoLinkedListsIntersect(graph, slls):\n",
    "    # Create a dictionary to store the graph\n",
    "    graph_dict = defaultdict(list)\n",
    "    for edge in graph:\n",
    "        u, v = edge.split('->')\n",
    "        graph_dict[u].append(v)\n",
    "\n",
    "    # Iterate over each starting node in the SLLs\n",
    "    for sll in slls:\n",
    "        start_nodes = sll.split(',')\n",
    "        # print(start_nodes)\n",
    "        # Create a set to store visited nodes\n",
    "        visited = set()\n",
    "        for start_node in start_nodes:\n",
    "            # Traverse the SLL from the start node\n",
    "            curr_node = start_node\n",
    "            while curr_node in graph_dict:\n",
    "                print(curr_node)\n",
    "                # Check if the current node has already been visited\n",
    "                if curr_node in visited:\n",
    "                    return True\n",
    "                visited.add(curr_node)\n",
    "                curr_node = graph_dict[curr_node][0]\n",
    "                # print(visited)\n",
    "    return False\n",
    "\n",
    "# Test the function with the example input\n",
    "graph = ['a->b', 'r->s', 'b->c', 'x->c', 'q->r', 'y->x', 'w->z']\n",
    "slls = ['a,q,w', 'a,c,r', 'y,z,a,r', 'a,w']\n",
    "for sll in slls:\n",
    "    print(DoLinkedListsIntersect(graph, [sll]))\n"
   ]
  },
  {
   "cell_type": "code",
   "execution_count": 0,
   "metadata": {
    "application/vnd.databricks.v1+cell": {
     "cellMetadata": {
      "byteLimit": 2048000,
      "rowLimit": 10000
     },
     "inputWidgets": {},
     "nuid": "b7b23554-375e-4d66-87d5-f178a51709d8",
     "showTitle": false,
     "title": ""
    }
   },
   "outputs": [
    {
     "output_type": "display_data",
     "data": {
      "text/html": [
       "<style scoped>\n",
       "  .ansiout {\n",
       "    display: block;\n",
       "    unicode-bidi: embed;\n",
       "    white-space: pre-wrap;\n",
       "    word-wrap: break-word;\n",
       "    word-break: break-all;\n",
       "    font-family: \"Menlo\", \"Monaco\", \"Consolas\", \"Ubuntu Mono\", \"Source Code Pro\", monospace;\n",
       "    font-size: 13px;\n",
       "    color: #555;\n",
       "    margin-left: 4px;\n",
       "    line-height: 19px;\n",
       "  }\n",
       "</style>\n",
       "<div class=\"ansiout\">a b\n",
       "r s\n",
       "b c\n",
       "x c\n",
       "q r\n",
       "y x\n",
       "w z\n",
       "False\n",
       "a b\n",
       "r s\n",
       "b c\n",
       "x c\n",
       "q r\n",
       "y x\n",
       "w z\n",
       "False\n",
       "a b\n",
       "r s\n",
       "b c\n",
       "x c\n",
       "q r\n",
       "y x\n",
       "w z\n",
       "False\n",
       "a b\n",
       "r s\n",
       "b c\n",
       "x c\n",
       "q r\n",
       "y x\n",
       "w z\n",
       "False\n",
       "</div>"
      ]
     },
     "metadata": {
      "application/vnd.databricks.v1+output": {
       "addedWidgets": {},
       "arguments": {},
       "data": "<div class=\"ansiout\">a b\nr s\nb c\nx c\nq r\ny x\nw z\nFalse\na b\nr s\nb c\nx c\nq r\ny x\nw z\nFalse\na b\nr s\nb c\nx c\nq r\ny x\nw z\nFalse\na b\nr s\nb c\nx c\nq r\ny x\nw z\nFalse\n</div>",
       "datasetInfos": [],
       "metadata": {},
       "removedWidgets": [],
       "type": "html"
      }
     },
     "output_type": "display_data"
    }
   ],
   "source": []
  }
 ],
 "metadata": {
  "application/vnd.databricks.v1+notebook": {
   "dashboards": [],
   "environmentMetadata": null,
   "language": "python",
   "notebookMetadata": {
    "pythonIndentUnit": 4
   },
   "notebookName": "BIPI - SE",
   "widgets": {}
  }
 },
 "nbformat": 4,
 "nbformat_minor": 0
}
