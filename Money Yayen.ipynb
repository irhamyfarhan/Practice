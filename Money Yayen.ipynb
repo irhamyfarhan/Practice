{
 "cells": [
  {
   "cell_type": "code",
   "execution_count": 0,
   "metadata": {
    "application/vnd.databricks.v1+cell": {
     "cellMetadata": {},
     "inputWidgets": {},
     "nuid": "aed8037b-bcbd-435f-a0a5-b3b82536730f",
     "showTitle": false,
     "title": ""
    }
   },
   "outputs": [],
   "source": [
    "def funWithAnagram(text):\n",
    "    seen = set()\n",
    "    result = []\n",
    "    for string in text:\n",
    "        sorted_string = ''.join(sorted(string))\n",
    "        if sorted_string not in seen:\n",
    "            seen.add(sorted_string)\n",
    "            result.append(string)\n",
    "    result.sort()\n",
    "    return result\n",
    "\n",
    "if __name__ == '__main__':\n",
    "    input_array = ['code', 'doce', 'race', 'care', 'tree']\n",
    "    output_array = funWithAnagram(input_array)\n",
    "    print(output_array)\n"
   ]
  },
  {
   "cell_type": "code",
   "execution_count": 0,
   "metadata": {
    "application/vnd.databricks.v1+cell": {
     "cellMetadata": {},
     "inputWidgets": {},
     "nuid": "dfb614eb-87f0-4c15-80d3-801ace33ab90",
     "showTitle": false,
     "title": ""
    }
   },
   "outputs": [],
   "source": [
    "def countTeams(skills, minPlayers, minLevel, maxLevel):\n",
    "    # Filter out the players whose skill level is outside the specified range.\n",
    "    filtered_skills = [skill for skill in skills if minLevel <= skill <= maxLevel]\n",
    "    \n",
    "    # If there are not enough players within the skill range, return 0.\n",
    "    if len(filtered_skills) < minPlayers:\n",
    "        return 0\n",
    "    \n",
    "    # Compute the total number of teams that can be formed using the filtered skills.\n",
    "    n = len(filtered_skills)\n",
    "    k = minPlayers\n",
    "    count = 0\n",
    "    while k <= n:\n",
    "        count += math.comb(n, k)\n",
    "        k += 1\n",
    "    \n",
    "    return count\n",
    "\n",
    "if __name__ == '__main__':\n",
    "    skills = [4, 8, 5, 6, 9, 7, 3]\n",
    "    minPlayers = 3\n",
    "    minLevel = 4\n",
    "    maxLevel = 8\n",
    "    print(countTeams(skills, minPlayers, minLevel, maxLevel)) # Output: 21\n"
   ]
  },
  {
   "cell_type": "code",
   "execution_count": 0,
   "metadata": {
    "application/vnd.databricks.v1+cell": {
     "cellMetadata": {},
     "inputWidgets": {},
     "nuid": "b77c8bb4-034a-4f91-b3cd-24a7a897682d",
     "showTitle": false,
     "title": ""
    }
   },
   "outputs": [],
   "source": [
    "SELECT\n",
    "    sa.sales_date,\n",
    "    ROUND(SUM(sa.sales_amount * er.exchange_rate), 2) AS total_sales_amount_usd\n",
    "FROM\n",
    "    sales_amount sa\n",
    "JOIN\n",
    "    exchange_rate er ON\n",
    "        sa.currency = er.source_currency\n",
    "        AND er.target_currency = 'USD'\n",
    "        AND sa.sales_date >= er.effective_start_date\n",
    "        AND er.effective_start_date = (\n",
    "            SELECT MAX(effective_start_date)\n",
    "            FROM exchange_rate\n",
    "            WHERE source_currency = sa.currency\n",
    "            AND target_currency = 'USD'\n",
    "            AND effective_start_date <= sa.sales_date\n",
    "        )\n",
    "GROUP BY sa.sales_date\n",
    "ORDER BY sa.sales_date;\n"
   ]
  },
  {
   "cell_type": "code",
   "execution_count": 0,
   "metadata": {
    "application/vnd.databricks.v1+cell": {
     "cellMetadata": {},
     "inputWidgets": {},
     "nuid": "522431f2-6bd4-4e12-a197-6ef010323927",
     "showTitle": false,
     "title": ""
    }
   },
   "outputs": [],
   "source": [
    "def init_spark_session(self) -> SparkSession:\n",
    "    \"\"\"\n",
    "    Initializes a spark session.\n",
    "    \"\"\"\n",
    "    spark = SparkSession.builder.appName(\"Covid19 Vaccination Progress\").getOrCreate()\n",
    "    return spark\n",
    "\n",
    "def count_available_vaccines(self, vaccines: DataFrame) -> int:\n",
    "    \"\"\"\n",
    "    Counts the number of unique vaccines around the world.\n",
    "    \"\"\"\n",
    "    nb_vaccines = vaccines.select(\"vaccines\").distinct().count()\n",
    "    return nb_vaccines\n",
    "\n",
    "def find_earliest_used_vaccine(self, vaccines: DataFrame) -> str:\n",
    "    \"\"\"\n",
    "    Finds the earliest vaccine which has been used in the world.\n",
    "    In the scenario where multiple vaccines have been used in a day, sort vaccines in ascending order and pick the first one.\n",
    "    \"\"\"\n",
    "    # Convert date to timestamp data type\n",
    "    vaccines = vaccines.withColumn(\"date\", F.to_timestamp(\"date\", \"d/M/yy\"))\n",
    "    # Find the earliest used vaccine\n",
    "    earliest_vaccine = vaccines.orderBy(\"date\", \"vaccines\").select(\"vaccines\").first()[0]\n",
    "    return earliest_vaccine\n",
    "\n",
    "def total_vaccinations_per_country(self, vaccines: DataFrame) -> DataFrame:\n",
    "    \"\"\"\n",
    "    Aggregates the vaccines data to see what is the total vaccination for each country.\n",
    "    Note: total vaccinations could be missing in real data due to data entry error. Please ignore all missing records.\n",
    "    \"\"\"\n",
    "    # Group by country and sum total vaccinations\n",
    "    total_vaccinations = vaccines.groupBy(\"country\").agg(F.sum(\"total_vaccinations\").alias(\"total_vaccinations\"))\n",
    "    return total_vaccinations\n"
   ]
  },
  {
   "cell_type": "markdown",
   "metadata": {
    "application/vnd.databricks.v1+cell": {
     "cellMetadata": {
      "byteLimit": 2048000,
      "rowLimit": 10000
     },
     "inputWidgets": {},
     "nuid": "712f5104-e23c-4624-bb95-72d74b8a4d80",
     "showTitle": false,
     "title": ""
    }
   },
   "source": [
    "in data partitioning, a large dataset is divided into smaller pieces. which of the following are true? pick one or more options:\n",
    "\n",
    "1. there is a user database that stores many attributes for each user. it is partitioned so that one partition gets name and emails, another partition receives avatars and addresses and so on. this is called vertical partitioning\n",
    "\n",
    "2. if you have a collection of users with a lot of attributes and you decide to partition the data so that each partition receives just a subset of users with all their attributes, this is called horizontal partitioning\n",
    "\n",
    "3. vertical and horizontal partioning cannot be combined\n",
    "\n",
    "4. round-robin partioning is a partioning stratergy that is especially good when the number of partition changes over time\n",
    "\n",
    "=======================================\n",
    "\n",
    "is true. This is an example of vertical partitioning, where attributes of a record are split across different partitions.\n",
    "\n",
    "is also true. This is an example of horizontal partitioning, where records are split across different partitions.\n",
    "\n",
    "is false. Vertical and horizontal partitioning can be combined to achieve a hybrid partitioning strategy that provides benefits of both approaches.\n",
    "\n",
    "is true. Round-robin partitioning is a strategy where data is distributed evenly across partitions in a circular fashion, and it can be useful when the number of partitions is expected to change over time.\n"
   ]
  },
  {
   "cell_type": "markdown",
   "metadata": {
    "application/vnd.databricks.v1+cell": {
     "cellMetadata": {},
     "inputWidgets": {},
     "nuid": "85704087-9c5a-44f0-89db-fd34e95e7a8d",
     "showTitle": false,
     "title": ""
    }
   },
   "source": [
    "\n",
    "in a modern distributed system, message queues are important components that provide communication between and coordination of the parts of the system. which of the following are true? pick one or more options\n",
    "\n",
    "1. message queue make the system more decoupled\n",
    "2. message queues increase the reliability of the system\n",
    "3. message queues, in general decrease the overall performance of the system\n",
    "4. message queues increase the complexity of the system architecture\n",
    "\n",
    "\n",
    "========================================\n",
    "\n",
    "Message queues make the system more decoupled by allowing different components to communicate and exchange data without having to know the specific details of the other components.\n",
    "\n",
    "Message queues can increase the reliability of the system by providing a buffer between components, allowing for temporary interruptions or failures without causing permanent data loss.\n",
    "\n",
    "Message queues can potentially decrease the overall performance of the system, depending on the specific implementation and usage of the message queue. However, the benefits of decoupling and reliability often outweigh the potential performance costs.\n",
    "\n",
    "Message queues can increase the complexity of the system architecture, as they require additional components and configuration to set up and manage. However, this complexity is often necessary for building scalable and robust distributed systems.\n",
    "\n",
    "\n",
    "No, not all of the statements are true.\n",
    "\n",
    "The true statements are:\n",
    "\n",
    "Message queues make the system more decoupled.\n",
    "Message queues increase the reliability of the system.\n",
    "The false statements are:\n",
    "\n",
    "Message queues, in general, decrease the overall performance of the system. This statement is not always true and depends on the specific implementation and usage of the message queue.\n",
    "\n",
    "Message queues increase the complexity of the system architecture. This statement is also not always true and depends on the specific implementation and usage of the message queue. While message queues may add some complexity to the system architecture, they can also simplify it by providing a standard way for components to communicate and exchange data.\n"
   ]
  },
  {
   "cell_type": "markdown",
   "metadata": {
    "application/vnd.databricks.v1+cell": {
     "cellMetadata": {
      "byteLimit": 2048000,
      "rowLimit": 10000
     },
     "inputWidgets": {},
     "nuid": "afb94a9c-c959-4366-9c82-0b6768346a34",
     "showTitle": false,
     "title": ""
    }
   },
   "source": [
    "in distributed systems, one of the major roles is exchanging messages. this often involves encoding the data that is sent. Thrift, Protocal Buffers and Avro are binary encodings developed respectively by Facebook, Google and Amazon. Which of the following are true, pick one or more options:\n",
    "\n",
    "1. Protocol Buffers, in general, provide a more consise format than JSON\n",
    "2. an encoded JSON message is signitifcantly more human-readable than a message encoded using Thrift, protocal buffers or Avro\n",
    "3. both protocols buffers and JSON support schemas and versioning\n",
    "4. protocol buffers do not support list or array datatypes. This format uses a different mechanism to represent multiple values while JSON supports arrays explicitly\n",
    "\n",
    "\n",
    "Protocol Buffers, in general, provide a more concise format than JSON.\n",
    "Both Protocol Buffers and JSON support schemas and versioning.\n",
    "Option 2 is false because JSON is a text-based format, which means it is more human-readable than binary encodings like Thrift, Protocol Buffers, and Avro. Option 4 is also false because Protocol Buffers support repeated fields that can represent lists or arrays of values."
   ]
  },
  {
   "cell_type": "markdown",
   "metadata": {
    "application/vnd.databricks.v1+cell": {
     "cellMetadata": {},
     "inputWidgets": {},
     "nuid": "7877990f-7ae1-46b0-887d-5196817c285e",
     "showTitle": false,
     "title": ""
    }
   },
   "source": [
    "replication and partitioning are two common ways to distribute data accross multiple machines/nodes. which of the following are true? (pick one or more options)\n",
    "\n",
    "1. both replication and partitioning can be crucial in improving the performance of delievering data on request\n",
    "2. replication and partitioning cannbot be used together\n",
    "3. in leader-based replications, one of the nodes stores all the data. Only when neeede, the other nodes ask the leader to deliver the data that they do not have\n",
    "4. using hash-based partitioning usually has a disadvanctage in the performance of range-based queries\n",
    "\n",
    "All of the options except for option 2 are true. Replication and partitioning can be used together, and in fact, many distributed databases use both techniques to achieve high availability, fault tolerance, and scalability. The other options are true: both replication and partitioning can be crucial in improving the performance of delivering data on request, in leader-based replication one node stores all the data and others request it when needed, and using hash-based partitioning can have a disadvantage in the performance of range-based queries."
   ]
  },
  {
   "cell_type": "markdown",
   "metadata": {
    "application/vnd.databricks.v1+cell": {
     "cellMetadata": {},
     "inputWidgets": {},
     "nuid": "53dbbd4e-eab2-451f-809c-cdf5c9ad9809",
     "showTitle": false,
     "title": ""
    }
   },
   "source": [
    "####TEST QUESTIONS"
   ]
  },
  {
   "cell_type": "code",
   "execution_count": 0,
   "metadata": {
    "application/vnd.databricks.v1+cell": {
     "cellMetadata": {},
     "inputWidgets": {},
     "nuid": "7050664a-8a40-4e43-945e-ee56de269de9",
     "showTitle": false,
     "title": ""
    }
   },
   "outputs": [],
   "source": [
    "# Complete the 'fizzBuzz' function below.\n",
    "#\n",
    "# The function accepts INTEGER n as parameter.\n",
    "def fizzBuzz(n):\n",
    "    for i in range(1, n+1):\n",
    "        if i % 3 == 0 and i % 5 == 0:\n",
    "            print(\"FizzBuzz\")\n",
    "        elif i % 3 == 0:\n",
    "            print(\"Fizz\")\n",
    "        elif i % 5 == 0:\n",
    "            print(\"Buzz\")\n",
    "        else:\n",
    "            print(i)\n",
    "        \n",
    "if __name__ == '__main__':\n",
    "    n = int(input())\n",
    "    fizzBuzz(n)"
   ]
  },
  {
   "cell_type": "code",
   "execution_count": 0,
   "metadata": {
    "application/vnd.databricks.v1+cell": {
     "cellMetadata": {},
     "inputWidgets": {},
     "nuid": "3e8729fe-6880-4b99-bc8a-4f5705f9ea51",
     "showTitle": false,
     "title": ""
    }
   },
   "outputs": [],
   "source": [
    "SELECT COMPANY.ID FROM COMPANY\n",
    "WHERE COMPANY.EMPLOYEES >10000"
   ]
  },
  {
   "cell_type": "markdown",
   "metadata": {
    "application/vnd.databricks.v1+cell": {
     "cellMetadata": {},
     "inputWidgets": {},
     "nuid": "5f1217af-1177-4a2e-906c-037b08a72828",
     "showTitle": false,
     "title": ""
    }
   },
   "source": [
    "####QUESTIONS"
   ]
  },
  {
   "cell_type": "code",
   "execution_count": 0,
   "metadata": {
    "application/vnd.databricks.v1+cell": {
     "cellMetadata": {},
     "inputWidgets": {},
     "nuid": "58228ed3-cd3b-4b81-9dcc-968a8896d26e",
     "showTitle": false,
     "title": ""
    }
   },
   "outputs": [],
   "source": [
    "# Q1 - REST API: Countries by Region\n",
    "\n",
    "#!/bin/python3\n",
    "\n",
    "import math\n",
    "import os\n",
    "import random\n",
    "import re\n",
    "import sys\n",
    "import requests\n",
    "\n",
    "#\n",
    "# Complete the 'findCountry' function below.\n",
    "#\n",
    "# The function is expected to return a STRING_ARRAY.\n",
    "# The function accepts following parameters:\n",
    "#  1. STRING region\n",
    "#  2. STRING keyword\n",
    "# Base URL for copy/paste:\n",
    "# https://jsonmock.hackerrank.com/api/countries/search?region={region} &name={keyword}\n",
    "#\n",
    "import requests\n",
    "import os\n",
    "\n",
    "def findCountry(region, keyword):\n",
    "    url = f\"https://jsonmock.hackerrank.com/api/countries/search?region={region}&name={keyword}\"\n",
    "    countries = []\n",
    "\n",
    "    def get_countries(url):\n",
    "        response = requests.get(url)\n",
    "        data = response.json()\n",
    "        return data\n",
    "\n",
    "    def country_sort_key(country):\n",
    "        return (country['population'], country['name'])\n",
    "\n",
    "    page = 1\n",
    "    total_pages = 1\n",
    "    while page <= total_pages:\n",
    "        response_data = get_countries(f\"{url}&page={page}\")\n",
    "        countries.extend(response_data['data'])\n",
    "        total_pages = response_data['total_pages']\n",
    "        page += 1\n",
    "\n",
    "    sorted_countries = sorted(countries, key=country_sort_key)\n",
    "\n",
    "    result = [f\"{country['name']},{country['population']}\" for country in sorted_countries]\n",
    "    return result\n",
    "     \n",
    "    \n",
    "if __name__ == '__main__':\n",
    "    \n",
    "    fptr = open(os.environ['OUTPUT_PATH'], 'w')\n",
    "\n",
    "    region = input()\n",
    "\n",
    "    keyword = input()\n",
    "\n",
    "    result = findCountry(region, keyword)\n",
    "\n",
    "    fptr.write('\\n'.join(result))\n",
    "    fptr.write('\\n')\n",
    "\n",
    "    fptr.close()"
   ]
  },
  {
   "cell_type": "code",
   "execution_count": 0,
   "metadata": {
    "application/vnd.databricks.v1+cell": {
     "cellMetadata": {},
     "inputWidgets": {},
     "nuid": "c73ceef5-e07d-4387-817e-4147b5a9ad8e",
     "showTitle": false,
     "title": ""
    }
   },
   "outputs": [],
   "source": [
    "# Q2 - Currency Exchange Rate\n",
    "\n",
    "WITH converted_sales AS (\n",
    "    SELECT\n",
    "        sa.sales_date,\n",
    "        SUM(sa.sales_amount * er.exchange_rate) AS sales_amount_usd\n",
    "    FROM\n",
    "        sales_amount sa\n",
    "    JOIN\n",
    "        exchange_rate er ON sa.currency = er.source_currency\n",
    "    AND sa.sales_date >= er.effective_start_date\n",
    "    AND NOT EXISTS (\n",
    "        SELECT 1\n",
    "        FROM exchange_rate er2\n",
    "        WHERE er.source_currency = er2.source_currency\n",
    "        AND sa.sales_date >= er2.effective_start_date\n",
    "        AND er.effective_start_date < er2.effective_start_date\n",
    "    )\n",
    "    GROUP BY\n",
    "        sa.sales_date\n",
    ")\n",
    "SELECT\n",
    "    sales_date,\n",
    "    ROUND(sales_amount_usd, 2) AS total_sales_amount_usd\n",
    "FROM\n",
    "    converted_sales\n",
    "ORDER BY\n",
    "    sales_date;"
   ]
  },
  {
   "cell_type": "code",
   "execution_count": 0,
   "metadata": {
    "application/vnd.databricks.v1+cell": {
     "cellMetadata": {},
     "inputWidgets": {},
     "nuid": "6b7d8bbb-45be-4f9b-9292-96110610e437",
     "showTitle": false,
     "title": ""
    }
   },
   "outputs": [],
   "source": [
    "# Q4 - Python: ATM Actions\n",
    "\n",
    "from typing import Dict, Optional, Tuple, Any\n",
    "\n",
    "# Define the Action type\n",
    "Action = strQ2\n",
    "\n",
    "class State:\n",
    "    def __init__(self, name):\n",
    "        self.name = name\n",
    "\n",
    "class Action:\n",
    "    def __init__(self, name, param=None):\n",
    "        self.name = name\n",
    "        self.param = param\n",
    "\n",
    "def unauthorized_login_checker(action_param: Optional[str], atm_password: str, atm_current_balance: int) -> Tuple[bool, int, Optional[str]]:\n",
    "    if action_param == atm_password:\n",
    "        return True, atm_current_balance, None\n",
    "    else:\n",
    "        return False, atm_current_balance, None\n",
    "\n",
    "def authorized_logout_checker(action_param: Optional[str], atm_password: str, atm_current_balance: int) -> Tuple[bool, int, Optional[str]]:\n",
    "    return True, atm_current_balance, None\n",
    "\n",
    "def authorized_deposit_checker(action_param: Optional[str], atm_password: str, atm_current_balance: int) -> Tuple[bool, int, Optional[str]]:\n",
    "    if action_param is not None and action_param.isdigit():\n",
    "        amount = int(action_param)\n",
    "        return True, atm_current_balance + amount, None\n",
    "    else:\n",
    "        return False, atm_current_balance, None\n",
    "\n",
    "def authorized_withdraw_checker(action_param: Optional[str], atm_password: str, atm_current_balance: int) -> Tuple[bool, int, Optional[str]]:\n",
    "    if action_param is not None and action_param.isdigit():\n",
    "        amount = int(action_param)\n",
    "        if atm_current_balance >= amount:\n",
    "            return True, atm_current_balance - amount, None\n",
    "    return False, atm_current_balance, None\n",
    "\n",
    "def authorized_balance_checker(action_param: Optional[str], atm_password: str, atm_current_balance: int) -> Tuple[bool, int, Optional[str]]:\n",
    "    return True, atm_current_balance, atm_current_balance\n",
    "\n",
    "unauthorized_transitions = [\n",
    "    ('login', unauthorized_login_checker, State('authorized'))\n",
    "]\n",
    "\n",
    "authorized_transitions = [\n",
    "    ('logout', authorized_logout_checker, State('unauthorized')),\n",
    "    ('deposit', authorized_deposit_checker, State('authorized')),\n",
    "    ('withdraw', authorized_withdraw_checker, State('authorized')),\n",
    "    ('balance', authorized_balance_checker, State('authorized'))\n",
    "]\n",
    "\n",
    "transition_table = {\n",
    "    State('unauthorized'): unauthorized_transitions,\n",
    "    State('authorized'): authorized_transitions\n",
    "}\n",
    "\n",
    "class ATM:\n",
    "    def __init__(self, init_state: State, init_balance: int, password: str, transition_table: Dict):\n",
    "        self.state = init_state\n",
    "        self._balance = init_balance\n",
    "        self._password = password\n",
    "        self._transition_table = transition_table\n",
    "\n",
    "    def next(self, action: Action, param: Optional) -> Tuple[bool, Optional[Any]]:\n",
    "        try:\n",
    "            for transition_action, check, next_state in self._transition_table[self.state]:\n",
    "                if action == transition_action:\n",
    "                    passed, new_balance, res = check(param, self._password, self._balance)\n",
    "                    if passed:\n",
    "                        self._balance = new_balance\n",
    "                        self.state = next_state\n",
    "                        return True, res\n",
    "        except KeyError:\n",
    "            pass\n",
    "        return False, None\n",
    "\n",
    "\n",
    "if __name__ == \"__main__\":\n",
    "    password = input()\n",
    "    init_balance = int(input())\n",
    "    atm = ATM(State('unauthorized'), init_balance, password, transition_table)\n",
    "    q = int(input())\n",
    "    for _ in range(q):\n",
    "        action_input = input().split()\n",
    "        action_name = action_input[0]\n",
    "        try:\n",
    "            action_param = action_input[1]\n",
    "            if action_name in [\"deposit\", \"withdraw\"]:\n",
    "                action_param = int(action_param)\n",
    "        except IndexError:\n",
    "            action_param = None\n",
    "        success, res = atm.next(action_name, action_param)\n",
    "        if res is not None:\n",
    "            print(f\"Success={success} {atm.state.name} {res}\")\n",
    "        else:\n",
    "            print(f\"Success={success} {atm.state.name}\")"
   ]
  }
 ],
 "metadata": {
  "application/vnd.databricks.v1+notebook": {
   "dashboards": [],
   "environmentMetadata": null,
   "language": "python",
   "notebookMetadata": {
    "pythonIndentUnit": 4
   },
   "notebookName": "Money Yayen",
   "widgets": {}
  }
 },
 "nbformat": 4,
 "nbformat_minor": 0
}
